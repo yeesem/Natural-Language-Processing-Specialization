{
  "nbformat": 4,
  "nbformat_minor": 0,
  "metadata": {
    "colab": {
      "provenance": [],
      "authorship_tag": "ABX9TyMCOzpbQqzht9Vp21K8Bikp"
    },
    "kernelspec": {
      "name": "python3",
      "display_name": "Python 3"
    },
    "language_info": {
      "name": "python"
    }
  },
  "cells": [
    {
      "cell_type": "markdown",
      "source": [
        "### Imports"
      ],
      "metadata": {
        "id": "8y3f2v473_ur"
      }
    },
    {
      "cell_type": "code",
      "execution_count": 1,
      "metadata": {
        "id": "atJAdUeX3izw"
      },
      "outputs": [],
      "source": [
        "import numpy as np"
      ]
    },
    {
      "cell_type": "markdown",
      "source": [
        "### Joining (Concatenation)"
      ],
      "metadata": {
        "id": "8tHQXC9A4D7y"
      }
    },
    {
      "cell_type": "code",
      "source": [
        "# Create some dummy data\n",
        "w_hh = np.full((3,2), 1)\n",
        "w_hx = np.full((3,3), 9)\n",
        "\n",
        "'''\n",
        "array([[1, 1],\n",
        "       [1, 1],\n",
        "       [1, 1]])\n",
        "\n",
        "array([[ 9,  9,  9],\n",
        "       [ 9,  9,  9],\n",
        "       [ 9,  9,  9]])\n",
        "'''\n",
        "\n",
        "# Try using random initialization\n",
        "w_hh = np.random.standard_normal((3,2))\n",
        "w_hx = np.random.standard_normal((3,3))\n",
        "\n",
        "print(\"-- Data --\\n\")\n",
        "print(\"w_hh : \")\n",
        "print(w_hh)\n",
        "print(\"w_hx shape : \", w_hh.shape, \"\\n\")\n",
        "print(\"w_hx : \")\n",
        "print(w_hx)\n",
        "print(\"w_hx shape : \", w_hx.shape, \"\\n\")\n",
        "\n",
        "# Joining the arrays\n",
        "# Option 1: concatenate\n",
        "w_h1 = np.concatenate((w_hh, w_hx), axis = 1)\n",
        "print(\"Option 1 : concatenate\\n\")\n",
        "print(\"w_h\")\n",
        "print(w_h1)\n",
        "print(\"w_h shape : \", w_h1.shape, \"\\n\")\n",
        "\n",
        "# Option 2: hstack\n",
        "w_h2 = np.hstack((w_hh, w_hx))\n",
        "print(\"Option 2 : hstack\\n\")\n",
        "print(\"w_h : \")\n",
        "print(w_h2)\n",
        "print(\"w_h shape : \", w_h2.shape)"
      ],
      "metadata": {
        "colab": {
          "base_uri": "https://localhost:8080/"
        },
        "id": "vmzYinTa4C_6",
        "outputId": "77276d0c-bf90-4e70-b68c-f156cf414ee2"
      },
      "execution_count": 11,
      "outputs": [
        {
          "output_type": "stream",
          "name": "stdout",
          "text": [
            "-- Data --\n",
            "\n",
            "w_hh : \n",
            "[[ 0.93208287 -1.63138539]\n",
            " [-0.80867001 -1.0607575 ]\n",
            " [-0.64248324  0.43261805]]\n",
            "w_hx shape :  (3, 2) \n",
            "\n",
            "w_hx : \n",
            "[[-1.83803508  1.48732452  0.03243909]\n",
            " [ 0.67651248 -1.66896476 -1.39354743]\n",
            " [ 1.46974872 -2.72236959  1.00424288]]\n",
            "w_hx shape :  (3, 3) \n",
            "\n",
            "Option 1 : concatenate\n",
            "\n",
            "w_h\n",
            "[[ 0.93208287 -1.63138539 -1.83803508  1.48732452  0.03243909]\n",
            " [-0.80867001 -1.0607575   0.67651248 -1.66896476 -1.39354743]\n",
            " [-0.64248324  0.43261805  1.46974872 -2.72236959  1.00424288]]\n",
            "w_h shape :  (3, 5) \n",
            "\n",
            "Option 2 : hstack\n",
            "\n",
            "w_h : \n",
            "[[ 0.93208287 -1.63138539 -1.83803508  1.48732452  0.03243909]\n",
            " [-0.80867001 -1.0607575   0.67651248 -1.66896476 -1.39354743]\n",
            " [-0.64248324  0.43261805  1.46974872 -2.72236959  1.00424288]]\n",
            "w_h shape :  (3, 5)\n"
          ]
        }
      ]
    },
    {
      "cell_type": "markdown",
      "source": [
        "### Hidden State & Input"
      ],
      "metadata": {
        "id": "M0Jg7L4l8QM3"
      }
    },
    {
      "cell_type": "code",
      "source": [
        "# Create some more dummy data\n",
        "h_t_prev = np.full((2,1), 1)\n",
        "x_t = np.full((3,1), 9)\n",
        "\n",
        "h_t_prev = np.random.standard_normal((2,1))\n",
        "x_t = np.random.standard_normal((3,1))\n",
        "\n",
        "print(\"-- Data --\\n\")\n",
        "print(\"h_t_prev :\")\n",
        "print(h_t_prev)\n",
        "print(\"h_t_prev shape :\", h_t_prev.shape, \"\\n\")\n",
        "print(\"x_t :\")\n",
        "print(x_t)\n",
        "print(\"x_t shape :\", x_t.shape, \"\\n\")\n",
        "\n",
        "# Joining the arrays\n",
        "print(\"-- Joining --\\n\")\n",
        "\n",
        "# Option 1: concatenate - vertical\n",
        "ax_1 = np.concatenate(\n",
        "    (h_t_prev, x_t), axis=0\n",
        ")  # note the difference in axis parameter vs earlier\n",
        "print(\"option 1 : concatenate\\n\")\n",
        "print(\"ax_1 :\")\n",
        "print(ax_1)\n",
        "print(\"ax_1 shape :\", ax_1.shape, \"\\n\")\n",
        "\n",
        "# Option 2: vstack\n",
        "ax_2 = np.vstack((h_t_prev, x_t))\n",
        "print(\"option 2 : vstack\\n\")\n",
        "print(\"ax_2 :\")\n",
        "print(ax_2)\n",
        "print(\"ax_2 shape :\", ax_2.shape)"
      ],
      "metadata": {
        "colab": {
          "base_uri": "https://localhost:8080/"
        },
        "id": "GCUF6n804nsZ",
        "outputId": "c947cdd1-08fc-4787-d24a-2c088687369c"
      },
      "execution_count": 13,
      "outputs": [
        {
          "output_type": "stream",
          "name": "stdout",
          "text": [
            "-- Data --\n",
            "\n",
            "h_t_prev :\n",
            "[[0.54898419]\n",
            " [1.05227586]]\n",
            "h_t_prev shape : (2, 1) \n",
            "\n",
            "x_t :\n",
            "[[ 1.03895513]\n",
            " [-0.72566487]\n",
            " [-1.94072216]]\n",
            "x_t shape : (3, 1) \n",
            "\n",
            "-- Joining --\n",
            "\n",
            "option 1 : concatenate\n",
            "\n",
            "ax_1 :\n",
            "[[ 0.54898419]\n",
            " [ 1.05227586]\n",
            " [ 1.03895513]\n",
            " [-0.72566487]\n",
            " [-1.94072216]]\n",
            "ax_1 shape : (5, 1) \n",
            "\n",
            "option 2 : vstack\n",
            "\n",
            "ax_2 :\n",
            "[[ 0.54898419]\n",
            " [ 1.05227586]\n",
            " [ 1.03895513]\n",
            " [-0.72566487]\n",
            " [-1.94072216]]\n",
            "ax_2 shape : (5, 1)\n"
          ]
        }
      ]
    },
    {
      "cell_type": "markdown",
      "source": [
        "### Verify Formulas"
      ],
      "metadata": {
        "id": "AEXLF8dQ8wvm"
      }
    },
    {
      "cell_type": "code",
      "source": [
        "# Data\n",
        "w_hh = np.full((3, 2), 1)\n",
        "w_hx = np.full((3, 3), 9)\n",
        "h_t_prev = np.full((2, 1), 1)\n",
        "x_t = np.full((3, 1), 9)\n",
        "\n",
        "# w_hh = np.random.standard_normal((3,2))\n",
        "# w_hx = np.random.standard_normal((3,3))\n",
        "# h_t_prev = np.random.standard_normal((2,1))\n",
        "# x_t = np.random.standard_normal((3,1))\n",
        "\n",
        "# Results\n",
        "stack_1 = np.hstack((w_hh, w_hx))\n",
        "stack_2 = np.vstack((h_t_prev, x_t))\n",
        "\n",
        "print(\"\\nFormula 1\")\n",
        "print(\"Term1 : \\n\",stack_1)\n",
        "print(\"Term2 : \\n\",stack_2)\n",
        "formula_1 = np.matmul(np.hstack((w_hh, w_hx)), np.vstack((h_t_prev, x_t)))\n",
        "print(\"\\n Formula 1 Output : \")\n",
        "print(formula_1)\n",
        "\n",
        "# Formula 2\n",
        "formula_2 = np.matmul(w_hh, h_t_prev) + np.matmul(w_hx, x_t)\n",
        "print(\"Formula 2 Output : \")\n",
        "print(formula_2)\n",
        "\n",
        "print(\"\\n-- Verify --\")\n",
        "print(\"Results are the same :\", np.allclose(formula_1, formula_2))\n",
        "\n",
        "# # Activation\n",
        "def sigmoid(x):\n",
        "    return 1 / (1 + np.exp(-x))\n",
        "\n",
        "# Bias and check\n",
        "b = np.random.standard_normal((formula_1.shape[0],1))\n",
        "print(\"Formula 1 Output:\\n\",sigmoid(formula_1+b))\n",
        "print(\"Formula 2 Output:\\n\",sigmoid(formula_2+b))\n",
        "\n",
        "all_close = np.allclose(sigmoid(formula_1+b), sigmoid(formula_2+b))\n",
        "print(\"\\nResults after activation are the same :\",all_close)"
      ],
      "metadata": {
        "colab": {
          "base_uri": "https://localhost:8080/"
        },
        "id": "x1GS8jGP4Nw2",
        "outputId": "a5c5df1f-159c-4bf7-86d7-8dae64f196bb"
      },
      "execution_count": 17,
      "outputs": [
        {
          "output_type": "stream",
          "name": "stdout",
          "text": [
            "\n",
            "Formula 1\n",
            "Term1 : \n",
            " [[1 1 9 9 9]\n",
            " [1 1 9 9 9]\n",
            " [1 1 9 9 9]]\n",
            "Term2 : \n",
            " [[1]\n",
            " [1]\n",
            " [9]\n",
            " [9]\n",
            " [9]]\n",
            "\n",
            " Formula 1 Output : \n",
            "[[245]\n",
            " [245]\n",
            " [245]]\n",
            "Formula 2 Output : \n",
            "[[245]\n",
            " [245]\n",
            " [245]]\n",
            "\n",
            "-- Verify --\n",
            "Results are the same : True\n",
            "Formula 1 Output:\n",
            " [[1.]\n",
            " [1.]\n",
            " [1.]]\n",
            "Formula 2 Output:\n",
            " [[1.]\n",
            " [1.]\n",
            " [1.]]\n",
            "\n",
            "Results after activation are the same : True\n"
          ]
        }
      ]
    }
  ]
}