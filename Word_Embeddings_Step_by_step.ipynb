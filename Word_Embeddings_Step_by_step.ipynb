{
  "nbformat": 4,
  "nbformat_minor": 0,
  "metadata": {
    "colab": {
      "provenance": [],
      "authorship_tag": "ABX9TyO9OacRqqpnuywg4HnvVNfy"
    },
    "kernelspec": {
      "name": "python3",
      "display_name": "Python 3"
    },
    "language_info": {
      "name": "python"
    }
  },
  "cells": [
    {
      "cell_type": "code",
      "source": [
        "pip install emoji"
      ],
      "metadata": {
        "colab": {
          "base_uri": "https://localhost:8080/"
        },
        "id": "V9V6xX7NYHsM",
        "outputId": "d7ae4057-73d0-4d25-91ac-35169d81ac86"
      },
      "execution_count": 88,
      "outputs": [
        {
          "output_type": "stream",
          "name": "stdout",
          "text": [
            "Requirement already satisfied: emoji in /usr/local/lib/python3.10/dist-packages (2.12.1)\n",
            "Requirement already satisfied: typing-extensions>=4.7.0 in /usr/local/lib/python3.10/dist-packages (from emoji) (4.12.2)\n"
          ]
        }
      ]
    },
    {
      "cell_type": "code",
      "execution_count": 89,
      "metadata": {
        "colab": {
          "base_uri": "https://localhost:8080/"
        },
        "id": "Gp5RgdgQX2D8",
        "outputId": "1a5958ad-f252-4956-d92f-91a3b9f2a5ec"
      },
      "outputs": [
        {
          "output_type": "stream",
          "name": "stderr",
          "text": [
            "[nltk_data] Downloading package punkt to /root/nltk_data...\n",
            "[nltk_data]   Package punkt is already up-to-date!\n"
          ]
        },
        {
          "output_type": "execute_result",
          "data": {
            "text/plain": [
              "True"
            ]
          },
          "metadata": {},
          "execution_count": 89
        }
      ],
      "source": [
        "import sys\n",
        "\n",
        "import re\n",
        "import nltk\n",
        "import numpy as np\n",
        "from nltk.tokenize import word_tokenize\n",
        "import emoji\n",
        "\n",
        "nltk.download('punkt')"
      ]
    },
    {
      "cell_type": "markdown",
      "source": [
        "# Data preparation"
      ],
      "metadata": {
        "id": "gN_r4ezEYMVW"
      }
    },
    {
      "cell_type": "markdown",
      "source": [
        "### Cleaning and tokenization"
      ],
      "metadata": {
        "id": "LF019AvnYQIx"
      }
    },
    {
      "cell_type": "code",
      "source": [
        "corpus = 'Who ❤️ \"word embeddings\" in 2020? I do!!!'"
      ],
      "metadata": {
        "id": "mFS44Kq4YOaf"
      },
      "execution_count": 90,
      "outputs": []
    },
    {
      "cell_type": "code",
      "source": [
        "print(f'Corpus:  {corpus}')\n",
        "data = re.sub(r'[,!?;-]', '.', corpus)\n",
        "print(f\"After clearning punctuation : \", {data})"
      ],
      "metadata": {
        "colab": {
          "base_uri": "https://localhost:8080/"
        },
        "id": "ufUbXJv8YWKN",
        "outputId": "131402b6-085c-4021-9237-bd93cdf967d4"
      },
      "execution_count": 91,
      "outputs": [
        {
          "output_type": "stream",
          "name": "stdout",
          "text": [
            "Corpus:  Who ❤️ \"word embeddings\" in 2020? I do!!!\n",
            "After clearning punctuation :  {'Who ❤️ \"word embeddings\" in 2020. I do...'}\n"
          ]
        }
      ]
    },
    {
      "cell_type": "code",
      "source": [
        "print(f\"Initial string : {data}\")\n",
        "data = nltk.word_tokenize(data)\n",
        "print(f\"After tokenization: {data}\")"
      ],
      "metadata": {
        "colab": {
          "base_uri": "https://localhost:8080/"
        },
        "id": "LMeSW3o-ZW8i",
        "outputId": "d9a0a529-39c5-4914-cc6c-7a836c1fc4c0"
      },
      "execution_count": 92,
      "outputs": [
        {
          "output_type": "stream",
          "name": "stdout",
          "text": [
            "Initial string : Who ❤️ \"word embeddings\" in 2020. I do...\n",
            "After tokenization: ['Who', '❤️', '``', 'word', 'embeddings', \"''\", 'in', '2020', '.', 'I', 'do', '...']\n"
          ]
        }
      ]
    },
    {
      "cell_type": "code",
      "source": [
        "print(f'Initial list of tokens: {data}')\n",
        "data = [ch.lower() for ch in data\n",
        "        if ch.isalpha()\n",
        "        or ch == \".\"\n",
        "        or bool(emoji.emoji_list(ch))\n",
        "      ]\n",
        "print(f\"After cleaning : {data}\")"
      ],
      "metadata": {
        "colab": {
          "base_uri": "https://localhost:8080/"
        },
        "id": "LITolRJDZiRd",
        "outputId": "17716323-2c17-4459-a2fd-4d6203ec541c"
      },
      "execution_count": 93,
      "outputs": [
        {
          "output_type": "stream",
          "name": "stdout",
          "text": [
            "Initial list of tokens: ['Who', '❤️', '``', 'word', 'embeddings', \"''\", 'in', '2020', '.', 'I', 'do', '...']\n",
            "After cleaning : ['who', '❤️', 'word', 'embeddings', 'in', '.', 'i', 'do']\n"
          ]
        }
      ]
    },
    {
      "cell_type": "code",
      "source": [
        "def tokenize(corpus):\n",
        "  data = re.sub(r'[,!?;-]+', '.', corpus)\n",
        "  data = nltk.word_tokenize(data)\n",
        "  data = [ch.lower() for ch in data\n",
        "          if ch.isalpha()\n",
        "          or ch == '.'\n",
        "          or bool(emoji.emoji_list(ch))\n",
        "          ]\n",
        "  return data"
      ],
      "metadata": {
        "id": "NShBUA8baaoI"
      },
      "execution_count": 94,
      "outputs": []
    },
    {
      "cell_type": "code",
      "source": [
        "corpus = 'I am happy because I am learning'\n",
        "print(f'Corpus:  {corpus}')\n",
        "words = tokenize(corpus)\n",
        "print(f'Words (tokens):  {words}')"
      ],
      "metadata": {
        "colab": {
          "base_uri": "https://localhost:8080/"
        },
        "id": "7k0xGbpldFXA",
        "outputId": "cebe88be-dff2-49bf-c51f-9837c9b14111"
      },
      "execution_count": 95,
      "outputs": [
        {
          "output_type": "stream",
          "name": "stdout",
          "text": [
            "Corpus:  I am happy because I am learning\n",
            "Words (tokens):  ['i', 'am', 'happy', 'because', 'i', 'am', 'learning']\n"
          ]
        }
      ]
    },
    {
      "cell_type": "code",
      "source": [
        "tokenize(\"Hi John, my name is Peter. How are you?\")"
      ],
      "metadata": {
        "colab": {
          "base_uri": "https://localhost:8080/"
        },
        "id": "JCR0N2OHazkl",
        "outputId": "a0d7d19f-eed1-421f-b1f9-50c93c1c531e"
      },
      "execution_count": 96,
      "outputs": [
        {
          "output_type": "execute_result",
          "data": {
            "text/plain": [
              "['hi', 'john', '.', 'my', 'name', 'is', 'peter', '.', 'how', 'are', 'you', '.']"
            ]
          },
          "metadata": {},
          "execution_count": 96
        }
      ]
    },
    {
      "cell_type": "markdown",
      "source": [
        "# Sliding window of words"
      ],
      "metadata": {
        "id": "bNcAZlg5bIvR"
      }
    },
    {
      "cell_type": "code",
      "source": [
        "def get_windows(words, C):\n",
        "  i = C\n",
        "  while i < len(words) - C:\n",
        "    center_word = words[i]\n",
        "    context_words = words[(i - C) : i] + words[(i + 1) : (i + C + 1)]\n",
        "    yield context_words, center_word\n",
        "    i += 1"
      ],
      "metadata": {
        "id": "cMSNZR3mbGNa"
      },
      "execution_count": 97,
      "outputs": []
    },
    {
      "cell_type": "code",
      "source": [
        "for x,y in get_windows(['i', 'am', 'happy', 'because', 'i', 'am', 'learning'], 2):\n",
        "  print(f\"{x}\\t{y}\")"
      ],
      "metadata": {
        "colab": {
          "base_uri": "https://localhost:8080/"
        },
        "id": "7Dy1UKKQb0TC",
        "outputId": "c8803136-d8dd-4301-dbe6-a59e99aeff31"
      },
      "execution_count": 98,
      "outputs": [
        {
          "output_type": "stream",
          "name": "stdout",
          "text": [
            "['i', 'am', 'because', 'i']\thappy\n",
            "['am', 'happy', 'i', 'am']\tbecause\n",
            "['happy', 'because', 'am', 'learning']\ti\n"
          ]
        }
      ]
    },
    {
      "cell_type": "markdown",
      "source": [
        "# Transforming words into vectors for the training set"
      ],
      "metadata": {
        "id": "nVdCtYfIcShS"
      }
    },
    {
      "cell_type": "markdown",
      "source": [
        "### Mapping words to indices and indices to words"
      ],
      "metadata": {
        "id": "4jkbb27PcWMS"
      }
    },
    {
      "cell_type": "code",
      "source": [
        "def get_dict(words):\n",
        "  words = sorted(list(set(words)))\n",
        "  idx = 0\n",
        "  word2Ind = {}\n",
        "  Ind2word = {}\n",
        "  for word in words:\n",
        "    word2Ind[word] = idx\n",
        "    Ind2word[idx] = word\n",
        "    idx += 1\n",
        "  return word2Ind, Ind2word"
      ],
      "metadata": {
        "id": "izD2eW4BcVjB"
      },
      "execution_count": 99,
      "outputs": []
    },
    {
      "cell_type": "code",
      "source": [
        "word2Ind, Ind2word = get_dict(words)"
      ],
      "metadata": {
        "id": "pFVXGdIqc0tY"
      },
      "execution_count": 100,
      "outputs": []
    },
    {
      "cell_type": "code",
      "source": [
        "word2Ind"
      ],
      "metadata": {
        "colab": {
          "base_uri": "https://localhost:8080/"
        },
        "id": "P6NwB901dOD2",
        "outputId": "339f577a-c6f6-4aa0-c5fa-b2ef19b60433"
      },
      "execution_count": 101,
      "outputs": [
        {
          "output_type": "execute_result",
          "data": {
            "text/plain": [
              "{'am': 0, 'because': 1, 'happy': 2, 'i': 3, 'learning': 4}"
            ]
          },
          "metadata": {},
          "execution_count": 101
        }
      ]
    },
    {
      "cell_type": "code",
      "source": [
        "print(\"Index of the word 'i':  \",word2Ind['i'])"
      ],
      "metadata": {
        "colab": {
          "base_uri": "https://localhost:8080/"
        },
        "id": "Wm4Pq14hdOxO",
        "outputId": "8dcf34d5-994b-4844-dadb-30b220a011be"
      },
      "execution_count": 102,
      "outputs": [
        {
          "output_type": "stream",
          "name": "stdout",
          "text": [
            "Index of the word 'i':   3\n"
          ]
        }
      ]
    },
    {
      "cell_type": "code",
      "source": [
        "V = len(word2Ind)\n",
        "print(\"Size of vocabulary: \", V)"
      ],
      "metadata": {
        "colab": {
          "base_uri": "https://localhost:8080/"
        },
        "id": "XkFzmpWrdQ8F",
        "outputId": "255a6070-bc98-48bc-8deb-89da13d9b3a9"
      },
      "execution_count": 103,
      "outputs": [
        {
          "output_type": "stream",
          "name": "stdout",
          "text": [
            "Size of vocabulary:  5\n"
          ]
        }
      ]
    },
    {
      "cell_type": "markdown",
      "source": [
        "# Getting one-hot word vectors"
      ],
      "metadata": {
        "id": "89c03mrLdVHn"
      }
    },
    {
      "cell_type": "code",
      "source": [
        "n = word2Ind['happy']\n",
        "n"
      ],
      "metadata": {
        "colab": {
          "base_uri": "https://localhost:8080/"
        },
        "id": "92-VbKJSdT9F",
        "outputId": "5d347f9c-06d4-45b7-c496-9dd70f53fc49"
      },
      "execution_count": 104,
      "outputs": [
        {
          "output_type": "execute_result",
          "data": {
            "text/plain": [
              "2"
            ]
          },
          "metadata": {},
          "execution_count": 104
        }
      ]
    },
    {
      "cell_type": "code",
      "source": [
        "center_word_vector = np.zeros(V)\n",
        "center_word_vector"
      ],
      "metadata": {
        "colab": {
          "base_uri": "https://localhost:8080/"
        },
        "id": "dKdiaAhQgc4j",
        "outputId": "a233b290-ea67-4da5-a232-688fb1314ae3"
      },
      "execution_count": 105,
      "outputs": [
        {
          "output_type": "execute_result",
          "data": {
            "text/plain": [
              "array([0., 0., 0., 0., 0.])"
            ]
          },
          "metadata": {},
          "execution_count": 105
        }
      ]
    },
    {
      "cell_type": "code",
      "source": [
        "len(center_word_vector) == V"
      ],
      "metadata": {
        "colab": {
          "base_uri": "https://localhost:8080/"
        },
        "id": "QMhJnvdxgpwt",
        "outputId": "2f87b51f-eafa-4c49-a682-f4e51f0d1473"
      },
      "execution_count": 106,
      "outputs": [
        {
          "output_type": "execute_result",
          "data": {
            "text/plain": [
              "True"
            ]
          },
          "metadata": {},
          "execution_count": 106
        }
      ]
    },
    {
      "cell_type": "code",
      "source": [
        "center_word_vector[n] = 1"
      ],
      "metadata": {
        "id": "1x23R2U9gtSx"
      },
      "execution_count": 107,
      "outputs": []
    },
    {
      "cell_type": "code",
      "source": [
        "center_word_vector"
      ],
      "metadata": {
        "colab": {
          "base_uri": "https://localhost:8080/"
        },
        "id": "slWU-_jngyzF",
        "outputId": "012ae725-cb39-4898-c6bd-aec3a76d9473"
      },
      "execution_count": 108,
      "outputs": [
        {
          "output_type": "execute_result",
          "data": {
            "text/plain": [
              "array([0., 0., 1., 0., 0.])"
            ]
          },
          "metadata": {},
          "execution_count": 108
        }
      ]
    },
    {
      "cell_type": "code",
      "source": [
        "def word_to_one_hot_vector(word, word2Ind, V):\n",
        "  one_hot_vector = np.zeros(V)\n",
        "  one_hot_vector[word2Ind[word]] = 1\n",
        "  return one_hot_vector"
      ],
      "metadata": {
        "id": "FkHzeeV_g0ZW"
      },
      "execution_count": 109,
      "outputs": []
    },
    {
      "cell_type": "code",
      "source": [
        "word_to_one_hot_vector('happy', word2Ind, V)"
      ],
      "metadata": {
        "colab": {
          "base_uri": "https://localhost:8080/"
        },
        "id": "cvkhpP1phDza",
        "outputId": "1c14a948-cf3d-4e8a-f859-83e09ae0fbec"
      },
      "execution_count": 110,
      "outputs": [
        {
          "output_type": "execute_result",
          "data": {
            "text/plain": [
              "array([0., 0., 1., 0., 0.])"
            ]
          },
          "metadata": {},
          "execution_count": 110
        }
      ]
    },
    {
      "cell_type": "code",
      "source": [
        "word_to_one_hot_vector('learning', word2Ind, V)"
      ],
      "metadata": {
        "colab": {
          "base_uri": "https://localhost:8080/"
        },
        "id": "7IZQByeqh1NX",
        "outputId": "c08d7abd-966f-4dc9-bbd7-4ff4550e8323"
      },
      "execution_count": 111,
      "outputs": [
        {
          "output_type": "execute_result",
          "data": {
            "text/plain": [
              "array([0., 0., 0., 0., 1.])"
            ]
          },
          "metadata": {},
          "execution_count": 111
        }
      ]
    },
    {
      "cell_type": "markdown",
      "source": [
        "# Getting context word vectors"
      ],
      "metadata": {
        "id": "FQb7byYyh36c"
      }
    },
    {
      "cell_type": "code",
      "source": [
        "context_words = ['i', 'am', 'because', 'i']"
      ],
      "metadata": {
        "id": "8f6KfBe-h7QJ"
      },
      "execution_count": 112,
      "outputs": []
    },
    {
      "cell_type": "code",
      "source": [
        "context_word_vectors = [word_to_one_hot_vector(w, word2Ind, V) for w in context_words]\n",
        "context_word_vectors"
      ],
      "metadata": {
        "colab": {
          "base_uri": "https://localhost:8080/"
        },
        "id": "eXcKbP7th3XK",
        "outputId": "2cc7489f-e4ed-4ca3-a1de-295340f1fbde"
      },
      "execution_count": 113,
      "outputs": [
        {
          "output_type": "execute_result",
          "data": {
            "text/plain": [
              "[array([0., 0., 0., 1., 0.]),\n",
              " array([1., 0., 0., 0., 0.]),\n",
              " array([0., 1., 0., 0., 0.]),\n",
              " array([0., 0., 0., 1., 0.])]"
            ]
          },
          "metadata": {},
          "execution_count": 113
        }
      ]
    },
    {
      "cell_type": "code",
      "source": [
        "np.mean(context_word_vectors, axis = 0)"
      ],
      "metadata": {
        "colab": {
          "base_uri": "https://localhost:8080/"
        },
        "id": "uUZR5X7QiW4f",
        "outputId": "c23dee6c-7af6-4ec4-a260-2062838671ad"
      },
      "execution_count": 114,
      "outputs": [
        {
          "output_type": "execute_result",
          "data": {
            "text/plain": [
              "array([0.25, 0.25, 0.  , 0.5 , 0.  ])"
            ]
          },
          "metadata": {},
          "execution_count": 114
        }
      ]
    },
    {
      "cell_type": "code",
      "source": [
        "def context_words_to_vector(context_words, word2Ind, V):\n",
        "  context_words_vectors = [word_to_one_hot_vector(w, word2Ind, V) for w in context_words]\n",
        "  context_words_vectors = np.mean(context_word_vectors, axis = 0)\n",
        "  return context_words_vectors"
      ],
      "metadata": {
        "id": "0aUxFpj9iee-"
      },
      "execution_count": 115,
      "outputs": []
    },
    {
      "cell_type": "code",
      "source": [
        "context_words_to_vector(['i', 'am', 'because', 'i'], word2Ind, V)"
      ],
      "metadata": {
        "colab": {
          "base_uri": "https://localhost:8080/"
        },
        "id": "VhImvn8LjNNB",
        "outputId": "7a5779e1-da74-4109-e200-0a84538afbf2"
      },
      "execution_count": 116,
      "outputs": [
        {
          "output_type": "execute_result",
          "data": {
            "text/plain": [
              "array([0.25, 0.25, 0.  , 0.5 , 0.  ])"
            ]
          },
          "metadata": {},
          "execution_count": 116
        }
      ]
    },
    {
      "cell_type": "code",
      "source": [
        "context_words_to_vector(['am', 'happy', 'i', 'am'], word2Ind, V)"
      ],
      "metadata": {
        "colab": {
          "base_uri": "https://localhost:8080/"
        },
        "id": "CdNlEI5wjPhu",
        "outputId": "4f1ffacb-5b7d-4551-b07e-0064d0c1bdd2"
      },
      "execution_count": 117,
      "outputs": [
        {
          "output_type": "execute_result",
          "data": {
            "text/plain": [
              "array([0.25, 0.25, 0.  , 0.5 , 0.  ])"
            ]
          },
          "metadata": {},
          "execution_count": 117
        }
      ]
    },
    {
      "cell_type": "markdown",
      "source": [
        "# Building the training set"
      ],
      "metadata": {
        "id": "J5jGF-PpjWcU"
      }
    },
    {
      "cell_type": "code",
      "source": [
        "words"
      ],
      "metadata": {
        "colab": {
          "base_uri": "https://localhost:8080/"
        },
        "id": "H0x5FeRZjRyS",
        "outputId": "0acf2203-9107-458a-8e81-3b4ebf408a70"
      },
      "execution_count": 118,
      "outputs": [
        {
          "output_type": "execute_result",
          "data": {
            "text/plain": [
              "['i', 'am', 'happy', 'because', 'i', 'am', 'learning']"
            ]
          },
          "metadata": {},
          "execution_count": 118
        }
      ]
    },
    {
      "cell_type": "code",
      "source": [
        "for context_words, center_word in get_windows(words, 2):\n",
        "  print(f\"Context words: {context_words} -> {context_words_to_vector(context_words, word2Ind, V)}\")\n",
        "  print(f\"Center words : {center_word}   -> {word_to_one_hot_vector(center_word, word2Ind, V)}\")\n",
        "  print()"
      ],
      "metadata": {
        "colab": {
          "base_uri": "https://localhost:8080/"
        },
        "id": "iBrQ_ZANjZgl",
        "outputId": "43040dcd-aaf9-4f31-853b-5e4451e29147"
      },
      "execution_count": 119,
      "outputs": [
        {
          "output_type": "stream",
          "name": "stdout",
          "text": [
            "Context words: ['i', 'am', 'because', 'i'] -> [0.25 0.25 0.   0.5  0.  ]\n",
            "Center words : happy   -> [0. 0. 1. 0. 0.]\n",
            "\n",
            "Context words: ['am', 'happy', 'i', 'am'] -> [0.25 0.25 0.   0.5  0.  ]\n",
            "Center words : because   -> [0. 1. 0. 0. 0.]\n",
            "\n",
            "Context words: ['happy', 'because', 'am', 'learning'] -> [0.25 0.25 0.   0.5  0.  ]\n",
            "Center words : i   -> [0. 0. 0. 1. 0.]\n",
            "\n"
          ]
        }
      ]
    },
    {
      "cell_type": "code",
      "source": [
        "def get_training_example(words, C, word2Ind, V):\n",
        "  for context_words, center_word in get_windows(words, C):\n",
        "    yield context_words_to_vector(context_words, word2Ind, V), word_to_one_hot_vector(center_word, word2Ind, V)"
      ],
      "metadata": {
        "id": "CdE0t7YI2IP9"
      },
      "execution_count": 120,
      "outputs": []
    },
    {
      "cell_type": "code",
      "source": [
        "for context_words_vector, center_word_vector in get_training_example(words, 2, word2Ind, V):\n",
        "  print(f\"Context words vector: {context_words_vector}\")\n",
        "  print(f\"Center word vector  : {center_word_vector}\")\n",
        "  print()"
      ],
      "metadata": {
        "colab": {
          "base_uri": "https://localhost:8080/"
        },
        "id": "M1NP08Sy2f99",
        "outputId": "833d7efa-aec6-4c84-fafb-999d5befba75"
      },
      "execution_count": 121,
      "outputs": [
        {
          "output_type": "stream",
          "name": "stdout",
          "text": [
            "Context words vector: [0.25 0.25 0.   0.5  0.  ]\n",
            "Center word vector  : [0. 0. 1. 0. 0.]\n",
            "\n",
            "Context words vector: [0.25 0.25 0.   0.5  0.  ]\n",
            "Center word vector  : [0. 1. 0. 0. 0.]\n",
            "\n",
            "Context words vector: [0.25 0.25 0.   0.5  0.  ]\n",
            "Center word vector  : [0. 0. 0. 1. 0.]\n",
            "\n"
          ]
        }
      ]
    },
    {
      "cell_type": "markdown",
      "source": [
        "# Continuous bag-of-words model"
      ],
      "metadata": {
        "id": "GIRMc0wV3smI"
      }
    },
    {
      "cell_type": "markdown",
      "source": [
        "### ReLU activation function"
      ],
      "metadata": {
        "id": "OroR6ZXr3yYl"
      }
    },
    {
      "cell_type": "code",
      "source": [
        "np.random.seed(10)\n",
        "z_1 = 10 * np.random.rand(5, 1) - 5\n",
        "z_1"
      ],
      "metadata": {
        "colab": {
          "base_uri": "https://localhost:8080/"
        },
        "id": "q4urkD1S3TaN",
        "outputId": "345e786a-9da6-4dae-d51e-cdf44e955053"
      },
      "execution_count": 122,
      "outputs": [
        {
          "output_type": "execute_result",
          "data": {
            "text/plain": [
              "array([[ 2.71320643],\n",
              "       [-4.79248051],\n",
              "       [ 1.33648235],\n",
              "       [ 2.48803883],\n",
              "       [-0.01492988]])"
            ]
          },
          "metadata": {},
          "execution_count": 122
        }
      ]
    },
    {
      "cell_type": "code",
      "source": [
        "h = z_1.copy()"
      ],
      "metadata": {
        "id": "cnm-caxJ37m_"
      },
      "execution_count": 123,
      "outputs": []
    },
    {
      "cell_type": "code",
      "source": [
        "h < 0"
      ],
      "metadata": {
        "colab": {
          "base_uri": "https://localhost:8080/"
        },
        "id": "udCOo5Oe4F_L",
        "outputId": "52d14c0b-68c3-46d6-8cae-f352480c0b5c"
      },
      "execution_count": 124,
      "outputs": [
        {
          "output_type": "execute_result",
          "data": {
            "text/plain": [
              "array([[False],\n",
              "       [ True],\n",
              "       [False],\n",
              "       [False],\n",
              "       [ True]])"
            ]
          },
          "metadata": {},
          "execution_count": 124
        }
      ]
    },
    {
      "cell_type": "code",
      "source": [
        "h[h < 0] = 0"
      ],
      "metadata": {
        "id": "8kBe0BeO4GkF"
      },
      "execution_count": 125,
      "outputs": []
    },
    {
      "cell_type": "code",
      "source": [
        "h"
      ],
      "metadata": {
        "colab": {
          "base_uri": "https://localhost:8080/"
        },
        "id": "aFb79PTq4JcT",
        "outputId": "185355cc-9eaa-456a-b01a-950066175760"
      },
      "execution_count": 126,
      "outputs": [
        {
          "output_type": "execute_result",
          "data": {
            "text/plain": [
              "array([[2.71320643],\n",
              "       [0.        ],\n",
              "       [1.33648235],\n",
              "       [2.48803883],\n",
              "       [0.        ]])"
            ]
          },
          "metadata": {},
          "execution_count": 126
        }
      ]
    },
    {
      "cell_type": "code",
      "source": [
        "def relu(z):\n",
        "  result = z.copy()\n",
        "  result[result < 0] = 0\n",
        "  return result"
      ],
      "metadata": {
        "id": "X1_ojxb14Jti"
      },
      "execution_count": 127,
      "outputs": []
    },
    {
      "cell_type": "code",
      "source": [
        "z = np.array([[-1.25459881], [ 4.50714306], [ 2.31993942], [ 0.98658484], [-3.4398136 ]])\n",
        "relu(z)"
      ],
      "metadata": {
        "colab": {
          "base_uri": "https://localhost:8080/"
        },
        "id": "R5YwSzQ74Q1Z",
        "outputId": "e9dab1c4-bea0-4c86-db29-f187f99b8178"
      },
      "execution_count": 128,
      "outputs": [
        {
          "output_type": "execute_result",
          "data": {
            "text/plain": [
              "array([[0.        ],\n",
              "       [4.50714306],\n",
              "       [2.31993942],\n",
              "       [0.98658484],\n",
              "       [0.        ]])"
            ]
          },
          "metadata": {},
          "execution_count": 128
        }
      ]
    },
    {
      "cell_type": "markdown",
      "source": [
        "### Softmax activation function"
      ],
      "metadata": {
        "id": "YUIpDuJm4VD3"
      }
    },
    {
      "cell_type": "code",
      "source": [
        "z = np.array([9, 8, 11, 10, 8.5])\n",
        "z"
      ],
      "metadata": {
        "colab": {
          "base_uri": "https://localhost:8080/"
        },
        "id": "yCqRouUx4Twd",
        "outputId": "cc03af87-337e-4a1d-cb8c-e21d0e6bb4cc"
      },
      "execution_count": 129,
      "outputs": [
        {
          "output_type": "execute_result",
          "data": {
            "text/plain": [
              "array([ 9. ,  8. , 11. , 10. ,  8.5])"
            ]
          },
          "metadata": {},
          "execution_count": 129
        }
      ]
    },
    {
      "cell_type": "code",
      "source": [
        "e_z = np.exp(z)\n",
        "e_z"
      ],
      "metadata": {
        "colab": {
          "base_uri": "https://localhost:8080/"
        },
        "id": "O4p7lJ_p4ZZg",
        "outputId": "fff73473-2ce3-4294-caf4-ffa06fb5d13e"
      },
      "execution_count": 130,
      "outputs": [
        {
          "output_type": "execute_result",
          "data": {
            "text/plain": [
              "array([ 8103.08392758,  2980.95798704, 59874.1417152 , 22026.46579481,\n",
              "        4914.7688403 ])"
            ]
          },
          "metadata": {},
          "execution_count": 130
        }
      ]
    },
    {
      "cell_type": "code",
      "source": [
        "sum_e_z = np.sum(e_z)\n",
        "sum_e_z"
      ],
      "metadata": {
        "colab": {
          "base_uri": "https://localhost:8080/"
        },
        "id": "NitIR3Ml4c5y",
        "outputId": "b3ed8428-df31-49b9-f7f1-ba3035a9bec5"
      },
      "execution_count": 131,
      "outputs": [
        {
          "output_type": "execute_result",
          "data": {
            "text/plain": [
              "97899.41826492078"
            ]
          },
          "metadata": {},
          "execution_count": 131
        }
      ]
    },
    {
      "cell_type": "code",
      "source": [
        "e_z[0] / sum_e_z"
      ],
      "metadata": {
        "colab": {
          "base_uri": "https://localhost:8080/"
        },
        "id": "CfrjX2Am4gVg",
        "outputId": "3ef198c8-cf79-4074-cc7a-c865fd228aa8"
      },
      "execution_count": 132,
      "outputs": [
        {
          "output_type": "execute_result",
          "data": {
            "text/plain": [
              "0.08276947985173956"
            ]
          },
          "metadata": {},
          "execution_count": 132
        }
      ]
    },
    {
      "cell_type": "code",
      "source": [
        "def softmax(z):\n",
        "  e_z = np.exp(z)\n",
        "  sum_e_z = np.sum(e_z)\n",
        "  return e_z / sum_e_z"
      ],
      "metadata": {
        "id": "d66QJtf04ld-"
      },
      "execution_count": 133,
      "outputs": []
    },
    {
      "cell_type": "code",
      "source": [
        "softmax([9, 8, 11, 10, 8.5])"
      ],
      "metadata": {
        "colab": {
          "base_uri": "https://localhost:8080/"
        },
        "id": "51V2PNAf4xm3",
        "outputId": "4b1d3b32-d7fd-4ab6-9465-852889f0aa23"
      },
      "execution_count": 134,
      "outputs": [
        {
          "output_type": "execute_result",
          "data": {
            "text/plain": [
              "array([0.08276948, 0.03044919, 0.61158833, 0.22499077, 0.05020223])"
            ]
          },
          "metadata": {},
          "execution_count": 134
        }
      ]
    },
    {
      "cell_type": "markdown",
      "source": [
        "### Dimensions: 1-D arrays vs 2-D column vectors"
      ],
      "metadata": {
        "id": "tsPiAZe540Lz"
      }
    },
    {
      "cell_type": "code",
      "source": [
        "x_array = np.zeros(V)\n",
        "x_array"
      ],
      "metadata": {
        "colab": {
          "base_uri": "https://localhost:8080/"
        },
        "id": "VBaPSywc4zRw",
        "outputId": "cfa1ba71-15ed-43c1-9187-ef34ed705069"
      },
      "execution_count": 135,
      "outputs": [
        {
          "output_type": "execute_result",
          "data": {
            "text/plain": [
              "array([0., 0., 0., 0., 0.])"
            ]
          },
          "metadata": {},
          "execution_count": 135
        }
      ]
    },
    {
      "cell_type": "code",
      "source": [
        "x_array.shape"
      ],
      "metadata": {
        "colab": {
          "base_uri": "https://localhost:8080/"
        },
        "id": "VzY92ZIF45-p",
        "outputId": "4a6d5fdd-8390-4efb-a375-598a6986363d"
      },
      "execution_count": 136,
      "outputs": [
        {
          "output_type": "execute_result",
          "data": {
            "text/plain": [
              "(5,)"
            ]
          },
          "metadata": {},
          "execution_count": 136
        }
      ]
    },
    {
      "cell_type": "code",
      "source": [
        "x_column_vector = x_array.copy()\n",
        "x_column_vector.shape = (V,1)\n",
        "x_column_vector"
      ],
      "metadata": {
        "colab": {
          "base_uri": "https://localhost:8080/"
        },
        "id": "D_hfwK3a47ST",
        "outputId": "cad9596d-5328-4844-f5e1-5223b99b3b28"
      },
      "execution_count": 137,
      "outputs": [
        {
          "output_type": "execute_result",
          "data": {
            "text/plain": [
              "array([[0.],\n",
              "       [0.],\n",
              "       [0.],\n",
              "       [0.],\n",
              "       [0.]])"
            ]
          },
          "metadata": {},
          "execution_count": 137
        }
      ]
    },
    {
      "cell_type": "code",
      "source": [
        "x_column_vector.shape"
      ],
      "metadata": {
        "colab": {
          "base_uri": "https://localhost:8080/"
        },
        "id": "ty1eUS9a5Fe7",
        "outputId": "89d305f1-f4b3-4f62-de5a-e0d3e5ef7216"
      },
      "execution_count": 138,
      "outputs": [
        {
          "output_type": "execute_result",
          "data": {
            "text/plain": [
              "(5, 1)"
            ]
          },
          "metadata": {},
          "execution_count": 138
        }
      ]
    },
    {
      "cell_type": "markdown",
      "source": [
        "### Forward propagation"
      ],
      "metadata": {
        "id": "DVshKCTT5Jv-"
      }
    },
    {
      "cell_type": "code",
      "source": [
        "N = 3"
      ],
      "metadata": {
        "id": "2UeVEesk5Fs5"
      },
      "execution_count": 139,
      "outputs": []
    },
    {
      "cell_type": "code",
      "source": [
        "W1 = np.array([[ 0.41687358,  0.08854191, -0.23495225,  0.28320538,  0.41800106],\n",
        "               [ 0.32735501,  0.22795148, -0.23951958,  0.4117634 , -0.23924344],\n",
        "               [ 0.26637602, -0.23846886, -0.37770863, -0.11399446,  0.34008124]])\n",
        "\n",
        "W2 = np.array([[-0.22182064, -0.43008631,  0.13310965],\n",
        "               [ 0.08476603,  0.08123194,  0.1772054 ],\n",
        "               [ 0.1871551 , -0.06107263, -0.1790735 ],\n",
        "               [ 0.07055222, -0.02015138,  0.36107434],\n",
        "               [ 0.33480474, -0.39423389, -0.43959196]])\n",
        "\n",
        "b1 = np.array([[ 0.09688219],\n",
        "               [ 0.29239497],\n",
        "               [-0.27364426]])\n",
        "\n",
        "b2 = np.array([[ 0.0352008 ],\n",
        "               [-0.36393384],\n",
        "               [-0.12775555],\n",
        "               [-0.34802326],\n",
        "               [-0.07017815]])"
      ],
      "metadata": {
        "id": "gVc5h3Fz5OVn"
      },
      "execution_count": 140,
      "outputs": []
    },
    {
      "cell_type": "code",
      "source": [
        "print(f'V (vocabulary size): {V}')\n",
        "print(f'N (embedding size / size of the hidden layer): {N}')\n",
        "print(f'size of W1: {W1.shape} (NxV)')\n",
        "print(f'size of b1: {b1.shape} (Nx1)')\n",
        "print(f'size of W2: {W2.shape} (VxN)')\n",
        "print(f'size of b2: {b2.shape} (Vx1)')"
      ],
      "metadata": {
        "colab": {
          "base_uri": "https://localhost:8080/"
        },
        "id": "HFGQY1sZ5Szd",
        "outputId": "7105daf7-b73a-4776-e585-22e8b7429d89"
      },
      "execution_count": 141,
      "outputs": [
        {
          "output_type": "stream",
          "name": "stdout",
          "text": [
            "V (vocabulary size): 5\n",
            "N (embedding size / size of the hidden layer): 3\n",
            "size of W1: (3, 5) (NxV)\n",
            "size of b1: (3, 1) (Nx1)\n",
            "size of W2: (5, 3) (VxN)\n",
            "size of b2: (5, 1) (Vx1)\n"
          ]
        }
      ]
    },
    {
      "cell_type": "code",
      "source": [
        "training_examples = get_training_example(words, 2, word2Ind, V)"
      ],
      "metadata": {
        "id": "y-tZk9PD5VP2"
      },
      "execution_count": 142,
      "outputs": []
    },
    {
      "cell_type": "code",
      "source": [
        "x_array, y_array = next(training_examples)"
      ],
      "metadata": {
        "id": "eYg61E-A5-CM"
      },
      "execution_count": 143,
      "outputs": []
    },
    {
      "cell_type": "code",
      "source": [
        "x_array"
      ],
      "metadata": {
        "colab": {
          "base_uri": "https://localhost:8080/"
        },
        "id": "G_Qq0tXe5_eU",
        "outputId": "f6b4e904-04b8-4190-cbde-1b055df3d972"
      },
      "execution_count": 144,
      "outputs": [
        {
          "output_type": "execute_result",
          "data": {
            "text/plain": [
              "array([0.25, 0.25, 0.  , 0.5 , 0.  ])"
            ]
          },
          "metadata": {},
          "execution_count": 144
        }
      ]
    },
    {
      "cell_type": "code",
      "source": [
        "y_array"
      ],
      "metadata": {
        "colab": {
          "base_uri": "https://localhost:8080/"
        },
        "id": "qxZtWwSE6Ai0",
        "outputId": "923a6481-c661-4267-c256-a3b2322fcf37"
      },
      "execution_count": 145,
      "outputs": [
        {
          "output_type": "execute_result",
          "data": {
            "text/plain": [
              "array([0., 0., 1., 0., 0.])"
            ]
          },
          "metadata": {},
          "execution_count": 145
        }
      ]
    },
    {
      "cell_type": "code",
      "source": [
        "x = x_array.copy()\n",
        "x.shape = (V,1)\n",
        "print('x')\n",
        "print(x)\n",
        "\n",
        "print()\n",
        "\n",
        "y = y_array.copy()\n",
        "y.shape = (V,1)\n",
        "print('y')\n",
        "print(y)"
      ],
      "metadata": {
        "colab": {
          "base_uri": "https://localhost:8080/"
        },
        "id": "QARBO8Yu6BYr",
        "outputId": "0a2a49c0-253b-47f6-a042-4c53f092c541"
      },
      "execution_count": 146,
      "outputs": [
        {
          "output_type": "stream",
          "name": "stdout",
          "text": [
            "x\n",
            "[[0.25]\n",
            " [0.25]\n",
            " [0.  ]\n",
            " [0.5 ]\n",
            " [0.  ]]\n",
            "\n",
            "y\n",
            "[[0.]\n",
            " [0.]\n",
            " [1.]\n",
            " [0.]\n",
            " [0.]]\n"
          ]
        }
      ]
    },
    {
      "cell_type": "markdown",
      "source": [
        "### Values of the hidden layer"
      ],
      "metadata": {
        "id": "UPufsJHK6cZa"
      }
    },
    {
      "cell_type": "code",
      "source": [
        "z1 = np.dot(W1, x) + b1"
      ],
      "metadata": {
        "id": "yuBs7sxE6gUF"
      },
      "execution_count": 147,
      "outputs": []
    },
    {
      "cell_type": "code",
      "source": [
        "z1"
      ],
      "metadata": {
        "colab": {
          "base_uri": "https://localhost:8080/"
        },
        "id": "px_IGOMi6kjq",
        "outputId": "52700af2-60cd-4891-9fe1-e528bb7ebb01"
      },
      "execution_count": 148,
      "outputs": [
        {
          "output_type": "execute_result",
          "data": {
            "text/plain": [
              "array([[ 0.36483875],\n",
              "       [ 0.63710329],\n",
              "       [-0.3236647 ]])"
            ]
          },
          "metadata": {},
          "execution_count": 148
        }
      ]
    },
    {
      "cell_type": "code",
      "source": [
        "h = relu(z1)"
      ],
      "metadata": {
        "id": "Y_R-pLqX6l4Y"
      },
      "execution_count": 149,
      "outputs": []
    },
    {
      "cell_type": "markdown",
      "source": [
        "### Value of the output layer"
      ],
      "metadata": {
        "id": "BvbcxxYC6qA4"
      }
    },
    {
      "cell_type": "code",
      "source": [
        "z2 = np.dot(W2, h) + b2\n",
        "z2"
      ],
      "metadata": {
        "colab": {
          "base_uri": "https://localhost:8080/"
        },
        "id": "aWIuW58n6opS",
        "outputId": "a25a79db-b704-4b02-cac7-f19550273592"
      },
      "execution_count": 150,
      "outputs": [
        {
          "output_type": "execute_result",
          "data": {
            "text/plain": [
              "array([[-0.31973737],\n",
              "       [-0.28125477],\n",
              "       [-0.09838369],\n",
              "       [-0.33512159],\n",
              "       [-0.19919612]])"
            ]
          },
          "metadata": {},
          "execution_count": 150
        }
      ]
    },
    {
      "cell_type": "code",
      "source": [
        "y_hat = softmax(z2)\n",
        "y_hat"
      ],
      "metadata": {
        "colab": {
          "base_uri": "https://localhost:8080/"
        },
        "id": "nwgQcx9L6wzo",
        "outputId": "99023359-0d7a-41d7-85bb-a09de6d14487"
      },
      "execution_count": 151,
      "outputs": [
        {
          "output_type": "execute_result",
          "data": {
            "text/plain": [
              "array([[0.18519074],\n",
              "       [0.19245626],\n",
              "       [0.23107446],\n",
              "       [0.18236353],\n",
              "       [0.20891502]])"
            ]
          },
          "metadata": {},
          "execution_count": 151
        }
      ]
    },
    {
      "cell_type": "markdown",
      "source": [
        "### Cross-entropy loss"
      ],
      "metadata": {
        "id": "GmF-pqqN64Qi"
      }
    },
    {
      "cell_type": "code",
      "source": [
        "y_hat"
      ],
      "metadata": {
        "colab": {
          "base_uri": "https://localhost:8080/"
        },
        "id": "MQtkCOqw62DV",
        "outputId": "31af23f0-395c-4c0c-ee38-c3fb58b41a47"
      },
      "execution_count": 152,
      "outputs": [
        {
          "output_type": "execute_result",
          "data": {
            "text/plain": [
              "array([[0.18519074],\n",
              "       [0.19245626],\n",
              "       [0.23107446],\n",
              "       [0.18236353],\n",
              "       [0.20891502]])"
            ]
          },
          "metadata": {},
          "execution_count": 152
        }
      ]
    },
    {
      "cell_type": "code",
      "source": [
        "y"
      ],
      "metadata": {
        "colab": {
          "base_uri": "https://localhost:8080/"
        },
        "id": "T_GI4Mm97Shl",
        "outputId": "2a6848b2-f903-4090-8590-dcf001be8787"
      },
      "execution_count": 153,
      "outputs": [
        {
          "output_type": "execute_result",
          "data": {
            "text/plain": [
              "array([[0.],\n",
              "       [0.],\n",
              "       [1.],\n",
              "       [0.],\n",
              "       [0.]])"
            ]
          },
          "metadata": {},
          "execution_count": 153
        }
      ]
    },
    {
      "cell_type": "code",
      "source": [
        "def cross_entropy_loss(y_predicted, y_actual):\n",
        "  loss = np.sum(-np.log(y_predicted) * y_actual)\n",
        "  return loss"
      ],
      "metadata": {
        "id": "JrAgr1tV7S4w"
      },
      "execution_count": 154,
      "outputs": []
    },
    {
      "cell_type": "code",
      "source": [
        "cross_entropy_loss(y_hat, y)"
      ],
      "metadata": {
        "colab": {
          "base_uri": "https://localhost:8080/"
        },
        "id": "fp0xL6Y_7g6p",
        "outputId": "2e6d72f7-347a-47f6-a122-d98ae6a49cef"
      },
      "execution_count": 155,
      "outputs": [
        {
          "output_type": "execute_result",
          "data": {
            "text/plain": [
              "1.4650152923611106"
            ]
          },
          "metadata": {},
          "execution_count": 155
        }
      ]
    },
    {
      "cell_type": "markdown",
      "source": [
        "### Backpropagation"
      ],
      "metadata": {
        "id": "IPgYKxAa7nVH"
      }
    },
    {
      "cell_type": "code",
      "source": [
        "grad_b2 = y_hat - y\n",
        "\n",
        "grad_b2"
      ],
      "metadata": {
        "colab": {
          "base_uri": "https://localhost:8080/"
        },
        "id": "QWKk1hSX7mYH",
        "outputId": "cadcfa47-495c-452b-abeb-b9b1d00c21b2"
      },
      "execution_count": 156,
      "outputs": [
        {
          "output_type": "execute_result",
          "data": {
            "text/plain": [
              "array([[ 0.18519074],\n",
              "       [ 0.19245626],\n",
              "       [-0.76892554],\n",
              "       [ 0.18236353],\n",
              "       [ 0.20891502]])"
            ]
          },
          "metadata": {},
          "execution_count": 156
        }
      ]
    },
    {
      "cell_type": "code",
      "source": [
        "grad_W2 = np.dot(y_hat - y, h.T)\n",
        "\n",
        "grad_W2"
      ],
      "metadata": {
        "colab": {
          "base_uri": "https://localhost:8080/"
        },
        "id": "xRx8LH5J9DKp",
        "outputId": "f565d514-8c1c-4740-c901-fa89b6e7fb31"
      },
      "execution_count": 157,
      "outputs": [
        {
          "output_type": "execute_result",
          "data": {
            "text/plain": [
              "array([[ 0.06756476,  0.11798563,  0.        ],\n",
              "       [ 0.0702155 ,  0.12261452,  0.        ],\n",
              "       [-0.28053384, -0.48988499,  0.        ],\n",
              "       [ 0.06653328,  0.1161844 ,  0.        ],\n",
              "       [ 0.07622029,  0.13310045,  0.        ]])"
            ]
          },
          "metadata": {},
          "execution_count": 157
        }
      ]
    },
    {
      "cell_type": "code",
      "source": [
        "grad_b1 = relu(np.dot(W2.T, y_hat - y))\n",
        "\n",
        "grad_b1"
      ],
      "metadata": {
        "colab": {
          "base_uri": "https://localhost:8080/"
        },
        "id": "OQaVH0Ll9KoC",
        "outputId": "0f31130f-e8ae-4a9f-8800-a52b56b4e9c2"
      },
      "execution_count": 158,
      "outputs": [
        {
          "output_type": "execute_result",
          "data": {
            "text/plain": [
              "array([[0.        ],\n",
              "       [0.        ],\n",
              "       [0.17045858]])"
            ]
          },
          "metadata": {},
          "execution_count": 158
        }
      ]
    },
    {
      "cell_type": "code",
      "source": [
        "grad_W1 = np.dot(relu(np.dot(W2.T, y_hat - y)), x.T)\n",
        "\n",
        "grad_W1"
      ],
      "metadata": {
        "colab": {
          "base_uri": "https://localhost:8080/"
        },
        "id": "c5YPhO1o9UVo",
        "outputId": "e8d22eac-2eee-42f2-c035-22357b915d70"
      },
      "execution_count": 159,
      "outputs": [
        {
          "output_type": "execute_result",
          "data": {
            "text/plain": [
              "array([[0.        , 0.        , 0.        , 0.        , 0.        ],\n",
              "       [0.        , 0.        , 0.        , 0.        , 0.        ],\n",
              "       [0.04261464, 0.04261464, 0.        , 0.08522929, 0.        ]])"
            ]
          },
          "metadata": {},
          "execution_count": 159
        }
      ]
    },
    {
      "cell_type": "code",
      "source": [
        "print(f'V (vocabulary size): {V}')\n",
        "print(f'N (embedding size / size of the hidden layer): {N}')\n",
        "print(f'size of grad_W1: {grad_W1.shape} (NxV)')\n",
        "print(f'size of grad_b1: {grad_b1.shape} (Nx1)')\n",
        "print(f'size of grad_W2: {grad_W2.shape} (VxN)')\n",
        "print(f'size of grad_b2: {grad_b2.shape} (Vx1)')"
      ],
      "metadata": {
        "colab": {
          "base_uri": "https://localhost:8080/"
        },
        "id": "IKDHIiMT9aRp",
        "outputId": "6c195cb5-651a-4a17-e8f2-d629c55e0a3e"
      },
      "execution_count": 160,
      "outputs": [
        {
          "output_type": "stream",
          "name": "stdout",
          "text": [
            "V (vocabulary size): 5\n",
            "N (embedding size / size of the hidden layer): 3\n",
            "size of grad_W1: (3, 5) (NxV)\n",
            "size of grad_b1: (3, 1) (Nx1)\n",
            "size of grad_W2: (5, 3) (VxN)\n",
            "size of grad_b2: (5, 1) (Vx1)\n"
          ]
        }
      ]
    },
    {
      "cell_type": "markdown",
      "source": [
        "### Gradient descent"
      ],
      "metadata": {
        "id": "MaxGCc849vNM"
      }
    },
    {
      "cell_type": "code",
      "source": [
        "# learning rate\n",
        "alpha = 0.03"
      ],
      "metadata": {
        "id": "-RFEpprv9cPO"
      },
      "execution_count": 161,
      "outputs": []
    },
    {
      "cell_type": "code",
      "source": [
        "W1_new = W1 - alpha * grad_W1"
      ],
      "metadata": {
        "id": "tpA-Bnme9zmS"
      },
      "execution_count": 162,
      "outputs": []
    },
    {
      "cell_type": "code",
      "source": [
        "print('old value of W1:')\n",
        "print(W1)\n",
        "print()\n",
        "print('new value of W1:')\n",
        "print(W1_new)"
      ],
      "metadata": {
        "colab": {
          "base_uri": "https://localhost:8080/"
        },
        "id": "mxJkxYp6905_",
        "outputId": "4f46feed-02aa-41e9-a0a6-a5412874919d"
      },
      "execution_count": 163,
      "outputs": [
        {
          "output_type": "stream",
          "name": "stdout",
          "text": [
            "old value of W1:\n",
            "[[ 0.41687358  0.08854191 -0.23495225  0.28320538  0.41800106]\n",
            " [ 0.32735501  0.22795148 -0.23951958  0.4117634  -0.23924344]\n",
            " [ 0.26637602 -0.23846886 -0.37770863 -0.11399446  0.34008124]]\n",
            "\n",
            "new value of W1:\n",
            "[[ 0.41687358  0.08854191 -0.23495225  0.28320538  0.41800106]\n",
            " [ 0.32735501  0.22795148 -0.23951958  0.4117634  -0.23924344]\n",
            " [ 0.26509758 -0.2397473  -0.37770863 -0.11655134  0.34008124]]\n"
          ]
        }
      ]
    },
    {
      "cell_type": "code",
      "source": [
        "W2_new = W2 - alpha * grad_W2\n",
        "b1_new = b1 - alpha * grad_b1\n",
        "b2_new = b2 - alpha * grad_b2\n",
        "\n",
        "print('W2_new')\n",
        "print(W2_new)\n",
        "print()\n",
        "print('b1_new')\n",
        "print(b1_new)\n",
        "print()\n",
        "print('b2_new')\n",
        "print(b2_new)"
      ],
      "metadata": {
        "colab": {
          "base_uri": "https://localhost:8080/"
        },
        "id": "ZuSHrFV293Is",
        "outputId": "42b6ab28-883b-4af5-c8b4-1d6de32cc8e5"
      },
      "execution_count": 164,
      "outputs": [
        {
          "output_type": "stream",
          "name": "stdout",
          "text": [
            "W2_new\n",
            "[[-0.22384758 -0.43362588  0.13310965]\n",
            " [ 0.08265956  0.0775535   0.1772054 ]\n",
            " [ 0.19557112 -0.04637608 -0.1790735 ]\n",
            " [ 0.06855622 -0.02363691  0.36107434]\n",
            " [ 0.33251813 -0.3982269  -0.43959196]]\n",
            "\n",
            "b1_new\n",
            "[[ 0.09688219]\n",
            " [ 0.29239497]\n",
            " [-0.27875802]]\n",
            "\n",
            "b2_new\n",
            "[[ 0.02964508]\n",
            " [-0.36970753]\n",
            " [-0.10468778]\n",
            " [-0.35349417]\n",
            " [-0.0764456 ]]\n"
          ]
        }
      ]
    },
    {
      "cell_type": "markdown",
      "source": [
        "# Extracting word embedding vectors"
      ],
      "metadata": {
        "id": "VfobJRNF97Ui"
      }
    },
    {
      "cell_type": "markdown",
      "source": [
        "### Option 1 : extract embedding vectors from W1"
      ],
      "metadata": {
        "id": "iZi7adBe99wN"
      }
    },
    {
      "cell_type": "code",
      "source": [
        "W1"
      ],
      "metadata": {
        "colab": {
          "base_uri": "https://localhost:8080/"
        },
        "id": "1FWmdQ4B951q",
        "outputId": "71c7e1a1-516b-49fe-bd32-c0a644f4b865"
      },
      "execution_count": 165,
      "outputs": [
        {
          "output_type": "execute_result",
          "data": {
            "text/plain": [
              "array([[ 0.41687358,  0.08854191, -0.23495225,  0.28320538,  0.41800106],\n",
              "       [ 0.32735501,  0.22795148, -0.23951958,  0.4117634 , -0.23924344],\n",
              "       [ 0.26637602, -0.23846886, -0.37770863, -0.11399446,  0.34008124]])"
            ]
          },
          "metadata": {},
          "execution_count": 165
        }
      ]
    },
    {
      "cell_type": "code",
      "source": [
        "for i in range(V):\n",
        "    print(Ind2word[i])"
      ],
      "metadata": {
        "colab": {
          "base_uri": "https://localhost:8080/"
        },
        "id": "ZnoGsABVA4Fy",
        "outputId": "ee734e6d-0aad-4247-af62-5e39eda6af24"
      },
      "execution_count": 166,
      "outputs": [
        {
          "output_type": "stream",
          "name": "stdout",
          "text": [
            "am\n",
            "because\n",
            "happy\n",
            "i\n",
            "learning\n"
          ]
        }
      ]
    },
    {
      "cell_type": "code",
      "source": [
        "# loop through each word of the vocabulary\n",
        "for word in word2Ind:\n",
        "    # extract the column corresponding to the index of the word in the vocabulary\n",
        "    word_embedding_vector = W1[:, word2Ind[word]]\n",
        "\n",
        "    print(f'{word}: {word_embedding_vector}')"
      ],
      "metadata": {
        "colab": {
          "base_uri": "https://localhost:8080/"
        },
        "id": "_IMzTBTwA8Nh",
        "outputId": "dfe13404-74a9-4253-ccc4-f682f4e716c7"
      },
      "execution_count": 167,
      "outputs": [
        {
          "output_type": "stream",
          "name": "stdout",
          "text": [
            "am: [0.41687358 0.32735501 0.26637602]\n",
            "because: [ 0.08854191  0.22795148 -0.23846886]\n",
            "happy: [-0.23495225 -0.23951958 -0.37770863]\n",
            "i: [ 0.28320538  0.4117634  -0.11399446]\n",
            "learning: [ 0.41800106 -0.23924344  0.34008124]\n"
          ]
        }
      ]
    },
    {
      "cell_type": "markdown",
      "source": [
        "### Option 2 : extract embedding vectors from W2"
      ],
      "metadata": {
        "id": "FiN3hTX7BBTB"
      }
    },
    {
      "cell_type": "code",
      "source": [
        "W2.T"
      ],
      "metadata": {
        "colab": {
          "base_uri": "https://localhost:8080/"
        },
        "id": "vquqlQNEA_I3",
        "outputId": "6c0d3017-774c-4b95-b70c-41b2a53405c2"
      },
      "execution_count": 168,
      "outputs": [
        {
          "output_type": "execute_result",
          "data": {
            "text/plain": [
              "array([[-0.22182064,  0.08476603,  0.1871551 ,  0.07055222,  0.33480474],\n",
              "       [-0.43008631,  0.08123194, -0.06107263, -0.02015138, -0.39423389],\n",
              "       [ 0.13310965,  0.1772054 , -0.1790735 ,  0.36107434, -0.43959196]])"
            ]
          },
          "metadata": {},
          "execution_count": 168
        }
      ]
    },
    {
      "cell_type": "code",
      "source": [
        "# loop through each word of the vocabulary\n",
        "for word in word2Ind:\n",
        "    # extract the column corresponding to the index of the word in the vocabulary\n",
        "    word_embedding_vector = W2.T[:, word2Ind[word]]\n",
        "\n",
        "    print(f'{word}: {word_embedding_vector}')"
      ],
      "metadata": {
        "colab": {
          "base_uri": "https://localhost:8080/"
        },
        "id": "kbFnnb49BGQh",
        "outputId": "4127f42d-b6de-47dc-c832-a76f34d1f9c8"
      },
      "execution_count": 169,
      "outputs": [
        {
          "output_type": "stream",
          "name": "stdout",
          "text": [
            "am: [-0.22182064 -0.43008631  0.13310965]\n",
            "because: [0.08476603 0.08123194 0.1772054 ]\n",
            "happy: [ 0.1871551  -0.06107263 -0.1790735 ]\n",
            "i: [ 0.07055222 -0.02015138  0.36107434]\n",
            "learning: [ 0.33480474 -0.39423389 -0.43959196]\n"
          ]
        }
      ]
    },
    {
      "cell_type": "markdown",
      "source": [
        "### Option 3: extract embedding vectors from W1 and W2"
      ],
      "metadata": {
        "id": "yRB7Dm4cBJK7"
      }
    },
    {
      "cell_type": "code",
      "source": [
        "W3 = (W1+W2.T)/2\n",
        "\n",
        "W3"
      ],
      "metadata": {
        "colab": {
          "base_uri": "https://localhost:8080/"
        },
        "id": "BhegfxBRBIas",
        "outputId": "d9a51e9c-94d3-48c5-99a7-d9cd4975ce73"
      },
      "execution_count": 170,
      "outputs": [
        {
          "output_type": "execute_result",
          "data": {
            "text/plain": [
              "array([[ 0.09752647,  0.08665397, -0.02389858,  0.1768788 ,  0.3764029 ],\n",
              "       [-0.05136565,  0.15459171, -0.15029611,  0.19580601, -0.31673866],\n",
              "       [ 0.19974284, -0.03063173, -0.27839106,  0.12353994, -0.04975536]])"
            ]
          },
          "metadata": {},
          "execution_count": 170
        }
      ]
    },
    {
      "cell_type": "code",
      "source": [
        "# loop through each word of the vocabulary\n",
        "for word in word2Ind:\n",
        "    # extract the column corresponding to the index of the word in the vocabulary\n",
        "    word_embedding_vector = W3[:, word2Ind[word]]\n",
        "\n",
        "    print(f'{word}: {word_embedding_vector}')"
      ],
      "metadata": {
        "colab": {
          "base_uri": "https://localhost:8080/"
        },
        "id": "yOhXq5-fBN3J",
        "outputId": "bd01284e-dac8-465e-ae03-092c01c55b51"
      },
      "execution_count": 171,
      "outputs": [
        {
          "output_type": "stream",
          "name": "stdout",
          "text": [
            "am: [ 0.09752647 -0.05136565  0.19974284]\n",
            "because: [ 0.08665397  0.15459171 -0.03063173]\n",
            "happy: [-0.02389858 -0.15029611 -0.27839106]\n",
            "i: [0.1768788  0.19580601 0.12353994]\n",
            "learning: [ 0.3764029  -0.31673866 -0.04975536]\n"
          ]
        }
      ]
    }
  ]
}