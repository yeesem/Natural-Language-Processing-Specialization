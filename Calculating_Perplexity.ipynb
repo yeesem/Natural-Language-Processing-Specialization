{
  "nbformat": 4,
  "nbformat_minor": 0,
  "metadata": {
    "colab": {
      "provenance": [],
      "authorship_tag": "ABX9TyNS49KbzanNrlpFp74SJeL9"
    },
    "kernelspec": {
      "name": "python3",
      "display_name": "Python 3"
    },
    "language_info": {
      "name": "python"
    }
  },
  "cells": [
    {
      "cell_type": "code",
      "execution_count": 1,
      "metadata": {
        "id": "33joZl7SOCWy"
      },
      "outputs": [],
      "source": [
        "import numpy as np"
      ]
    },
    {
      "cell_type": "markdown",
      "source": [
        "### Calculating Perplexity"
      ],
      "metadata": {
        "id": "CzAKX2VaORFo"
      }
    },
    {
      "cell_type": "code",
      "source": [
        "# Load from .npy files\n",
        "predictions = np.load('predictions.npy')\n",
        "targets = np.load('targets.npy')\n",
        "\n",
        "# Print shapes\n",
        "print(f'predictions has shape: {predictions.shape}')\n",
        "print(f'targets has shape: {targets.shape}')\n",
        "\n",
        "\n",
        "'''\n",
        "predictions has shape: (32, 64, 256)\n",
        "targets has shape: (32, 64)\n",
        "\n",
        "target:\n",
        "array([[105, 110,  32, ...,   0,   0,   0],\n",
        "       [ 97, 110, 110, ...,   0,   0,   0],\n",
        "       [111, 102,  32, ...,   0,   0,   0],\n",
        "       ...,\n",
        "       [105,  32,  97, ...,   0,   0,   0],\n",
        "       [101, 100, 103, ...,   0,   0,   0],\n",
        "       [121, 111, 117, ...,   0,   0,   0]], dtype=int32)\n",
        "\n",
        "predictions:\n",
        "array([[[-15.579997, -25.735575, -15.576893, ..., -15.574669,\n",
        "         -15.571493, -15.569425],\n",
        "        [-24.01082 , -35.80076 , -23.743649, ..., -23.807941,\n",
        "         -23.727554, -23.804428],\n",
        "        [-15.783699, -14.416848, -15.512791, ..., -15.729168,\n",
        "         -15.671564, -15.53212 ],\n",
        "        ...,\n",
        "        [-22.37673 , -29.096514, -22.266487, ..., -22.157543,\n",
        "         -22.212416, -22.285917],\n",
        "        [-23.18771 , -39.62314 , -23.07188 , ..., -23.058746,\n",
        "         -22.928747, -23.131004],\n",
        "        [-21.843483, -26.035233, -21.877586, ..., -21.576801,\n",
        "         -21.74238 , -21.694439]],\n",
        "\n",
        "       [[-15.579997, -25.735575, -15.576893, ..., -15.574669,\n",
        "         -15.571493, -15.569425],\n",
        "        [-15.887024, -16.101957, -15.914328, ..., -15.740339,\n",
        "         -15.764511, -15.746195],\n",
        "        [-17.759518, -19.134003, -17.479977, ..., -17.778797,\n",
        "         -17.484093, -17.56089 ],\n",
        "         ...\n",
        "'''"
      ],
      "metadata": {
        "id": "RTpzQzz3OPiM"
      },
      "execution_count": null,
      "outputs": []
    },
    {
      "cell_type": "code",
      "source": [
        "reshaped_targets = np.eye(predictions.shape[-1])[targets]\n",
        "print(f\"reshape_targets has shape : {reshaped_targets.shape}\")\n",
        "\n",
        "'''\n",
        "reshaped_targets has shape: (32, 64, 256)\n",
        "\n",
        "array([[[0., 0., 0., ..., 0., 0., 0.],\n",
        "        [0., 0., 0., ..., 0., 0., 0.],\n",
        "        [0., 0., 0., ..., 0., 0., 0.],\n",
        "        ...,\n",
        "        [1., 0., 0., ..., 0., 0., 0.],\n",
        "        [1., 0., 0., ..., 0., 0., 0.],\n",
        "        [1., 0., 0., ..., 0., 0., 0.]],\n",
        "\n",
        "       [[0., 0., 0., ..., 0., 0., 0.],\n",
        "        [0., 0., 0., ..., 0., 0., 0.],\n",
        "        [0., 0., 0., ..., 0., 0., 0.],\n",
        "        ...,\n",
        "        [1., 0., 0., ..., 0., 0., 0.],\n",
        "        [1., 0., 0., ..., 0., 0., 0.],\n",
        "        [1., 0., 0., ..., 0., 0., 0.]],\n",
        "\n",
        "       [[0., 0., 0., ..., 0., 0., 0.],\n",
        "        [0., 0., 0., ..., 0., 0., 0.],\n",
        "        [0., 0., 0., ..., 0., 0., 0.],\n",
        "        ...,\n",
        "        [1., 0., 0., ..., 0., 0., 0.],\n",
        "'''"
      ],
      "metadata": {
        "id": "bMQvWH9OPCue"
      },
      "execution_count": null,
      "outputs": []
    },
    {
      "cell_type": "code",
      "source": [
        "log_p = np.sum(predictions * reshaped_targets, axis = -1)"
      ],
      "metadata": {
        "id": "GbEjHALtPpGr"
      },
      "execution_count": null,
      "outputs": []
    },
    {
      "cell_type": "code",
      "source": [
        "# np.equal is a NumPy function that performs element-wise comparison.\n",
        "# It compares each element in the targets array to 0.\n",
        "# This function returns an array of the same shape as targets, with True where\n",
        "# the elements are equal to 0, and False where they are not.\n",
        "\n",
        "# 1.0 - np.equal(targets, 0) produces an array where 0 (where targets was 0)\n",
        "#  becomes 1.0, and 1 (where targets was not 0) remains 0.0\n",
        "non_pad = 1.0 - np.equal(targets, 0)\n",
        "print(f'non_pad has shape: {non_pad.shape}\\n')\n",
        "print(f'non_pad looks like this: \\n\\n {non_pad}')\n",
        "\n",
        "'''\n",
        "non_pad has shape: (32, 64)\n",
        "\n",
        "non_pad looks like this:\n",
        "\n",
        " [[1. 1. 1. ... 0. 0. 0.]\n",
        " [1. 1. 1. ... 0. 0. 0.]\n",
        " [1. 1. 1. ... 0. 0. 0.]\n",
        " ...\n",
        " [1. 1. 1. ... 0. 0. 0.]\n",
        " [1. 1. 1. ... 0. 0. 0.]\n",
        " [1. 1. 1. ... 0. 0. 0.]]\n",
        "'''"
      ],
      "metadata": {
        "id": "lQPOT9swP83T"
      },
      "execution_count": null,
      "outputs": []
    },
    {
      "cell_type": "code",
      "source": [
        "# By computing the product of the log probabilities and the non_pad tensor\n",
        "# you remove the effect of padding on the metric:\n",
        "real_log_p = log_p * non_pad\n",
        "print(f'real log probabilities still have shape: {real_log_p.shape}')"
      ],
      "metadata": {
        "id": "zoxeXngmRTXS"
      },
      "execution_count": null,
      "outputs": []
    },
    {
      "cell_type": "code",
      "source": [
        "print(f'log probabilities before filtering padding: \\n\\n {log_p}\\n')\n",
        "print(f'log probabilities after filtering padding: \\n\\n {real_log_p}')\n",
        "\n",
        "'''\n",
        "log probabilities before filtering padding:\n",
        "\n",
        " [[ -5.39654493  -1.03111839  -0.66916656 ... -22.37672997 -23.18770981\n",
        "  -21.84348297]\n",
        " [ -4.58577061  -1.13412857  -8.53803253 ... -20.15686035 -26.83709717\n",
        "  -23.57501984]\n",
        " [ -5.22238874  -1.28241444  -0.17312431 ... -21.328228   -19.85441208\n",
        "  -33.88444138]\n",
        " ...\n",
        " [ -5.39654493 -17.29168129  -4.36076593 ... -20.82580185 -21.06583786\n",
        "  -22.44311523]\n",
        " [ -5.93131638 -14.24741745  -0.26373291 ... -26.74324799 -18.38433075\n",
        "  -22.35527802]\n",
        " [ -5.67053604  -0.10595131   0.         ... -23.33252335 -28.08737564\n",
        "  -23.87880707]]\n",
        "\n",
        "log probabilities after filtering padding:\n",
        "\n",
        " [[ -5.39654493  -1.03111839  -0.66916656 ...  -0.          -0.\n",
        "   -0.        ]\n",
        " [ -4.58577061  -1.13412857  -8.53803253 ...  -0.          -0.\n",
        "   -0.        ]\n",
        " [ -5.22238874  -1.28241444  -0.17312431 ...  -0.          -0.\n",
        "   -0.        ]\n",
        " ...\n",
        " [ -5.39654493 -17.29168129  -4.36076593 ...  -0.          -0.\n",
        "   -0.        ]\n",
        " [ -5.93131638 -14.24741745  -0.26373291 ...  -0.          -0.\n",
        "   -0.        ]\n",
        " [ -5.67053604  -0.10595131   0.         ...  -0.          -0.\n",
        "   -0.        ]]\n",
        "'''"
      ],
      "metadata": {
        "id": "TrCYsyNnRTrU"
      },
      "execution_count": null,
      "outputs": []
    },
    {
      "cell_type": "code",
      "source": [
        "log_ppx = np.sum(real_log_p, axis = 1) /  np.sum(non_pad, axis = 1)\n",
        "log_ppx = np.mean(-log_ppx)\n",
        "print(f'The log perplexity and perplexity of the model are respectively: {log_ppx} and {np.exp(log_ppx)}')\n",
        "\n",
        "'''\n",
        "The log perplexity and perplexity of the model are respectively: 2.6211854987065033 and 13.752016923578548\n",
        "'''"
      ],
      "metadata": {
        "id": "YJg76G5nRjJy"
      },
      "execution_count": null,
      "outputs": []
    }
  ]
}