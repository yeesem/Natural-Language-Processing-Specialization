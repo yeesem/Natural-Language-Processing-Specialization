{
  "nbformat": 4,
  "nbformat_minor": 0,
  "metadata": {
    "colab": {
      "provenance": [],
      "authorship_tag": "ABX9TyOcXnTW7BLG/Mqu9hWU7Sow"
    },
    "kernelspec": {
      "name": "python3",
      "display_name": "Python 3"
    },
    "language_info": {
      "name": "python"
    }
  },
  "cells": [
    {
      "cell_type": "code",
      "execution_count": 1,
      "metadata": {
        "id": "eiXJYu9mZLDP"
      },
      "outputs": [],
      "source": [
        "import numpy as np\n",
        "import tensorflow as tf"
      ]
    },
    {
      "cell_type": "markdown",
      "source": [
        "### Similarity Scores"
      ],
      "metadata": {
        "id": "5UY8bWy6dd0w"
      }
    },
    {
      "cell_type": "code",
      "source": [
        "# Two vector example\n",
        "# Input data\n",
        "v1 = np.array([1, 2, 3], dtype = float)\n",
        "v2 = np.array([1, 2, 3.5], dtype = float)\n",
        "\n",
        "# Try modifying the vector v2 to see how it impacts the cosine similarity\n",
        "# v2 = v1                   # identical vector\n",
        "# v2 = v1 * -1              # opposite vector\n",
        "# v2 = np.array([0,-42,1], dtype=float)  # random example\n",
        "\n",
        "print(\"-- Input --\")\n",
        "print(\"V1 : \", v1)\n",
        "print(\"V2 : \", v2, \"\\n\")\n",
        "\n",
        "def cosine_similarity(v1, v2):\n",
        "  numerator = tf.math.reduce_sum(v1 * v2)\n",
        "  denominator = tf.math.sqrt(tf.math.reduce_sum(v1 * v1) * tf.math.reduce_sum(v2 * v2))\n",
        "  return numerator / denominator\n",
        "\n",
        "print(\"-- Outputs --\")\n",
        "print(\"Cosine similarity : \", cosine_similarity(v1, v2))"
      ],
      "metadata": {
        "colab": {
          "base_uri": "https://localhost:8080/"
        },
        "id": "hRRZxrdwdbGa",
        "outputId": "45e73db7-1c76-4822-bb72-84ca67e54908"
      },
      "execution_count": 4,
      "outputs": [
        {
          "output_type": "stream",
          "name": "stdout",
          "text": [
            "-- Input --\n",
            "V1 :  [1. 2. 3.]\n",
            "V2 :  [-1. -2. -3.] \n",
            "\n",
            "-- Outputs --\n",
            "Cosine similarity :  tf.Tensor(-1.0, shape=(), dtype=float64)\n"
          ]
        }
      ]
    },
    {
      "cell_type": "markdown",
      "source": [
        "### Two Batches of Vectors"
      ],
      "metadata": {
        "id": "nX8Fa6BSfaor"
      }
    },
    {
      "cell_type": "code",
      "source": [
        "# Two batches of vectors example\n",
        "# Input data\n",
        "\n",
        "\"\"\"\n",
        "v1 :\n",
        "array([[ 1.,  2.,  3.],\n",
        "       [ 9.,  8.,  7.],\n",
        "       [-1., -4., -2.],\n",
        "       [ 1., -7.,  2.]])\n",
        "\"\"\"\n",
        "v1_1 = np.array([1.0, 2.0, 3.0])\n",
        "v1_2 = np.array([9.0, 8.0, 7.0])\n",
        "v1_3 = np.array([-1.0, -4.0, -2.0])\n",
        "v1_4 = np.array([1.0, -7.0, 2.0])\n",
        "v1 = np.vstack([v1_1, v1_2, v1_3, v1_4])\n",
        "\n",
        "\"\"\"\n",
        "v2:\n",
        "array([[ 4.72843251, -0.31416263,  3.0220996 ],\n",
        "       [ 9.20017366,  9.47500835,  7.32925269],\n",
        "       [-5.79729922, -4.17808562, -2.54299621],\n",
        "       [ 3.72376963, -7.63641921,  2.29885007]])\n",
        "\"\"\"\n",
        "v2_1 = v1_1 + np.random.normal(0, 2, 3)  # add some noise to create approximate duplicate\n",
        "v2_2 = v1_2 + np.random.normal(0, 2, 3)\n",
        "v2_3 = v1_3 + np.random.normal(0, 2, 3)\n",
        "v2_4 = v1_4 + np.random.normal(0, 2, 3)\n",
        "v2 = np.vstack([v2_1, v2_2, v2_3, v2_4])\n",
        "\n",
        "print(\"-- Input --\")\n",
        "print(f\"v1 : \\n{v1}\\n\")\n",
        "print(f\"v2 : \\n{v2}\\n\")\n",
        "\n",
        "# Batch sizes must match\n",
        "b = len(v1)\n",
        "print(f\"Batch sizes match : {b == len(v2)}\\n\")\n",
        "\n",
        "# Similarity scores\n",
        "# Option 1 : nested loops and the cosine similarity function\n",
        "sim_1 = np.zeros([b, b])\n",
        "for row in range(0, sim_1.shape[0]):\n",
        "  for col in range(0, sim_1.shape[1]):\n",
        "    sim_1[row,col] = cosine_similarity(v2[row], v1[col]).numpy()\n",
        "\n",
        "print(\"-- Outputs --\")\n",
        "print(\"Option 1 : loop\")\n",
        "print(sim_1)"
      ],
      "metadata": {
        "colab": {
          "base_uri": "https://localhost:8080/"
        },
        "id": "jXadNfQ6eJHY",
        "outputId": "a9cba52c-e59d-4f4e-8c6c-0891865eac2d"
      },
      "execution_count": 11,
      "outputs": [
        {
          "output_type": "stream",
          "name": "stdout",
          "text": [
            "-- Input --\n",
            "v1 : \n",
            "[[ 1.  2.  3.]\n",
            " [ 9.  8.  7.]\n",
            " [-1. -4. -2.]\n",
            " [ 1. -7.  2.]]\n",
            "\n",
            "v2 : \n",
            "[[-2.92852677  1.60778267  3.41559857]\n",
            " [ 6.15808817  7.36827865  5.78058324]\n",
            " [-3.76842578 -2.95374122 -1.0572413 ]\n",
            " [-0.81672465 -6.6080942   3.82946569]]\n",
            "\n",
            "Batch sizes match : True\n",
            "\n",
            "-- Outputs --\n",
            "Option 1 : loop\n",
            "[[ 0.58924083  0.15650085 -0.47197698 -0.20939565]\n",
            " [ 0.91173463  0.99178717 -0.91879297 -0.41108239]\n",
            " [-0.70026323 -0.95094808  0.78761446  0.41055358]\n",
            " [-0.08853597 -0.312278    0.55655378  0.94073422]]\n"
          ]
        }
      ]
    },
    {
      "cell_type": "code",
      "source": [
        "# Option 2 : vector normalization and dot product\n",
        "def norm(x):\n",
        "  return tf.math.l2_normalize(x, axis = 1) # Use tensorflow built in normalization\n",
        "\n",
        "sim_2 = tf.linalg.matmul(norm(v2), norm(v1), transpose_b = True)\n",
        "\n",
        "print(\"-- Outputs --\")\n",
        "print(\"Option 2 : vector normalization and dot product\")\n",
        "print(sim_2, \"\\n\")\n",
        "\n",
        "# Check\n",
        "print(f\"Outputs are the same : {np.allclose(sim_1, sim_2)}\")"
      ],
      "metadata": {
        "colab": {
          "base_uri": "https://localhost:8080/"
        },
        "id": "QJlssxyggLJz",
        "outputId": "20fa46e8-96ad-4e6a-fc58-bb572d7c4f39"
      },
      "execution_count": 12,
      "outputs": [
        {
          "output_type": "stream",
          "name": "stdout",
          "text": [
            "-- Outputs --\n",
            "Option 2 : vector normalization and dot product\n",
            "tf.Tensor(\n",
            "[[ 0.58924083  0.15650085 -0.47197698 -0.20939565]\n",
            " [ 0.91173463  0.99178717 -0.91879297 -0.41108239]\n",
            " [-0.70026323 -0.95094808  0.78761446  0.41055358]\n",
            " [-0.08853597 -0.312278    0.55655378  0.94073422]], shape=(4, 4), dtype=float64) \n",
            "\n",
            "Outputs are the same : True\n"
          ]
        }
      ]
    },
    {
      "cell_type": "markdown",
      "source": [
        "### Hard Negative Mining\n",
        "L1=max(𝑚𝑒𝑎𝑛_𝑛𝑒𝑔−s(𝐴,𝑃)+𝛼,0)\n",
        "\n",
        "L2=max(𝑐𝑙𝑜𝑠𝑒𝑠𝑡_𝑛𝑒𝑔−s(𝐴,𝑃)+𝛼,0)"
      ],
      "metadata": {
        "id": "aqf9suVVlC0V"
      }
    },
    {
      "cell_type": "code",
      "source": [],
      "metadata": {
        "id": "UOQdjbMolFGz"
      },
      "execution_count": null,
      "outputs": []
    }
  ]
}