{
  "nbformat": 4,
  "nbformat_minor": 0,
  "metadata": {
    "colab": {
      "provenance": [],
      "authorship_tag": "ABX9TyMofXguURzMsGAhNcdr1S/J"
    },
    "kernelspec": {
      "name": "python3",
      "display_name": "Python 3"
    },
    "language_info": {
      "name": "python"
    }
  },
  "cells": [
    {
      "cell_type": "code",
      "execution_count": null,
      "metadata": {
        "id": "WFmjlAz7BCT-"
      },
      "outputs": [],
      "source": [
        "!pip install openai\n",
        "!pip install langchain\n",
        "!pip install -U langchain-community\n",
        "!pip install pypdf"
      ]
    },
    {
      "cell_type": "code",
      "source": [
        "import os\n",
        "import openai\n",
        "import sys"
      ],
      "metadata": {
        "id": "lfuqQTzmDv7b"
      },
      "execution_count": 2,
      "outputs": []
    },
    {
      "cell_type": "code",
      "source": [
        "from langchain.document_loaders import PyPDFLoader\n",
        "\n",
        "loaders = [\n",
        "    PyPDFLoader(\"/content/One Up On Wall Street by Peter Lynch ( PDFDrive ).pdf\"),\n",
        "    PyPDFLoader(\"/content/The Intelligent Investor ( PDFDrive ).pdf\")\n",
        "]\n",
        "\n",
        "docs = []\n",
        "\n",
        "for loader in loaders:\n",
        "  try:\n",
        "    docs.extend(loader.load())\n",
        "  except TypeError as e:\n",
        "    print(f\"Error loading document: {e}\")"
      ],
      "metadata": {
        "id": "hsjSFI_KD_Xr"
      },
      "execution_count": null,
      "outputs": []
    },
    {
      "cell_type": "code",
      "source": [
        "from langchain.text_splitter import RecursiveCharacterTextSplitter\n",
        "text_splitter = RecursiveCharacterTextSplitter(\n",
        "    chunk_size = 1500,\n",
        "    chunk_overlap = 150\n",
        ")"
      ],
      "metadata": {
        "id": "OlUlVhzPGn2u"
      },
      "execution_count": 8,
      "outputs": []
    },
    {
      "cell_type": "code",
      "source": [
        "splits = text_splitter.split_documents(docs)"
      ],
      "metadata": {
        "id": "9oCg_0OzHg7G"
      },
      "execution_count": 9,
      "outputs": []
    },
    {
      "cell_type": "code",
      "source": [
        "len(splits)"
      ],
      "metadata": {
        "colab": {
          "base_uri": "https://localhost:8080/"
        },
        "id": "QWTEUQ_AHknq",
        "outputId": "66d3b64b-029f-488e-b2ae-b9ad352695e0"
      },
      "execution_count": 10,
      "outputs": [
        {
          "output_type": "execute_result",
          "data": {
            "text/plain": [
              "519"
            ]
          },
          "metadata": {},
          "execution_count": 10
        }
      ]
    },
    {
      "cell_type": "markdown",
      "source": [
        "### Embeddings"
      ],
      "metadata": {
        "id": "oVKzuigKHpvy"
      }
    },
    {
      "cell_type": "code",
      "source": [
        "!pip install tiktoken"
      ],
      "metadata": {
        "id": "I6QlKhPKNMVn"
      },
      "execution_count": null,
      "outputs": []
    },
    {
      "cell_type": "code",
      "source": [
        "import getpass\n",
        "import os\n",
        "import numpy as np\n",
        "\n",
        "#if not os.getenv(\"OPENAI_API_KEY\"):\n",
        "os.environ[\"OPENAI_API_KEY\"] = getpass.getpass(\"Enter your OpenAI API key: \")"
      ],
      "metadata": {
        "colab": {
          "base_uri": "https://localhost:8080/"
        },
        "id": "jlffdWdhHx9_",
        "outputId": "6d3cb5b3-ae05-4bc3-866b-61864cc6dd2d"
      },
      "execution_count": 47,
      "outputs": [
        {
          "name": "stdout",
          "output_type": "stream",
          "text": [
            "Enter your OpenAI API key: ··········\n"
          ]
        }
      ]
    },
    {
      "cell_type": "code",
      "source": [
        "from langchain.embeddings.openai import OpenAIEmbeddings\n",
        "embedding = OpenAIEmbeddings()"
      ],
      "metadata": {
        "id": "OyN3zlq3Hlkf"
      },
      "execution_count": 48,
      "outputs": []
    },
    {
      "cell_type": "code",
      "source": [
        "sentence1 = \"i like dogs\"\n",
        "sentence2 = \"i like canines\"\n",
        "sentence3 = \"the weather is ugly outside\""
      ],
      "metadata": {
        "id": "Mgdcha16M7Yr"
      },
      "execution_count": 49,
      "outputs": []
    },
    {
      "cell_type": "code",
      "source": [
        "embedding1 = embedding.embed_query(sentence1)\n",
        "embedding2 = embedding.embed_query(sentence2)\n",
        "embedding3 = embedding.embed_query(sentence3)"
      ],
      "metadata": {
        "id": "y03drJygNFEI"
      },
      "execution_count": null,
      "outputs": []
    },
    {
      "cell_type": "code",
      "source": [
        "# Calculate the similarity between the embeddings\n",
        "# The higher the value, the higher the similarity between the embeddings\n",
        "np.dot(embedding1, embedding2)\n",
        "np.dot(embedding1, embedding3)\n",
        "np.dot(embedding2, embedding3)"
      ],
      "metadata": {
        "id": "HkyE7KCNfNcP"
      },
      "execution_count": null,
      "outputs": []
    },
    {
      "cell_type": "markdown",
      "source": [
        "### Vectorstores"
      ],
      "metadata": {
        "id": "x220TQSEd7VB"
      }
    },
    {
      "cell_type": "code",
      "source": [
        "!pip install chromadb"
      ],
      "metadata": {
        "colab": {
          "base_uri": "https://localhost:8080/"
        },
        "id": "_q-LmcR_NJcU",
        "outputId": "19894e24-005d-4afc-d388-5a1c0646595a"
      },
      "execution_count": 51,
      "outputs": [
        {
          "output_type": "stream",
          "name": "stdout",
          "text": [
            "Successfully installed asgiref-3.8.1 backoff-2.2.1 bcrypt-4.2.0 chroma-hnswlib-0.7.6 chromadb-0.5.7 coloredlogs-15.0.1 deprecated-1.2.14 durationpy-0.7 fastapi-0.115.0 httptools-0.6.1 humanfriendly-10.0 importlib-metadata-8.4.0 kubernetes-31.0.0 mmh3-5.0.0 monotonic-1.6 onnxruntime-1.19.2 opentelemetry-api-1.27.0 opentelemetry-exporter-otlp-proto-common-1.27.0 opentelemetry-exporter-otlp-proto-grpc-1.27.0 opentelemetry-instrumentation-0.48b0 opentelemetry-instrumentation-asgi-0.48b0 opentelemetry-instrumentation-fastapi-0.48b0 opentelemetry-proto-1.27.0 opentelemetry-sdk-1.27.0 opentelemetry-semantic-conventions-0.48b0 opentelemetry-util-http-0.48b0 overrides-7.7.0 posthog-3.6.6 pypika-0.48.9 starlette-0.38.5 uvicorn-0.30.6 uvloop-0.20.0 watchfiles-0.24.0 websockets-13.0.1\n"
          ]
        }
      ]
    },
    {
      "cell_type": "code",
      "source": [
        "from langchain.vectorstores import Chroma"
      ],
      "metadata": {
        "id": "1-NeTm9feF8b"
      },
      "execution_count": 52,
      "outputs": []
    },
    {
      "cell_type": "code",
      "source": [
        "persist_directory = \"content/chroma/\""
      ],
      "metadata": {
        "id": "6lub9B0DeIYy"
      },
      "execution_count": 53,
      "outputs": []
    },
    {
      "cell_type": "code",
      "source": [
        "!rm -rf ./docs/chroma  # remove old database files if any"
      ],
      "metadata": {
        "id": "R6F9lrd7eMjl"
      },
      "execution_count": 54,
      "outputs": []
    },
    {
      "cell_type": "code",
      "source": [
        "vectorbd = Chroma.from_documents(\n",
        "    documents = splits,\n",
        "    embedding = embedding,\n",
        "    persist_directory = persist_directory\n",
        ")"
      ],
      "metadata": {
        "id": "6tYk0BB4ePCc"
      },
      "execution_count": null,
      "outputs": []
    },
    {
      "cell_type": "code",
      "source": [
        "print(vectordb._collection.count())"
      ],
      "metadata": {
        "id": "gMHB9K8PeeLY"
      },
      "execution_count": null,
      "outputs": []
    },
    {
      "cell_type": "markdown",
      "source": [
        "### Similarity Search"
      ],
      "metadata": {
        "id": "9FvBUeR8ejTo"
      }
    },
    {
      "cell_type": "code",
      "source": [
        "question = \"is there an email i can ask for help\""
      ],
      "metadata": {
        "id": "n6M-wIpIeeaE"
      },
      "execution_count": null,
      "outputs": []
    },
    {
      "cell_type": "code",
      "source": [
        "# k=3, return 3 chuncks with the most similarity\n",
        "docs = vectordb.similarity_search(question,k=3)"
      ],
      "metadata": {
        "id": "VqXEp5PIem2O"
      },
      "execution_count": null,
      "outputs": []
    },
    {
      "cell_type": "code",
      "source": [
        "len(docs)"
      ],
      "metadata": {
        "id": "soXWt3TAeovd"
      },
      "execution_count": null,
      "outputs": []
    },
    {
      "cell_type": "code",
      "source": [
        "docs[0].page_content"
      ],
      "metadata": {
        "id": "1Dllm4Are0kA"
      },
      "execution_count": null,
      "outputs": []
    },
    {
      "cell_type": "code",
      "source": [
        "for doc in docs:\n",
        "    print(doc.metadata)\n",
        "\n",
        "'''\n",
        "{'source': 'docs/cs229_lectures/MachineLearning-Lecture03.pdf', 'page': 0}\n",
        "{'source': 'docs/cs229_lectures/MachineLearning-Lecture03.pdf', 'page': 14}\n",
        "{'source': 'docs/cs229_lectures/MachineLearning-Lecture02.pdf', 'page': 0}\n",
        "{'source': 'docs/cs229_lectures/MachineLearning-Lecture03.pdf', 'page': 6}\n",
        "{'source': 'docs/cs229_lectures/MachineLearning-Lecture01.pdf', 'page': 8}\n",
        "'''"
      ],
      "metadata": {
        "id": "A1hEpjome7uh"
      },
      "execution_count": null,
      "outputs": []
    }
  ]
}